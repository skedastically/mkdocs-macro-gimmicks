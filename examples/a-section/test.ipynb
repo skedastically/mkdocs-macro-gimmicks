{
 "cells": [
  {
   "cell_type": "code",
   "execution_count": 23,
   "metadata": {},
   "outputs": [
    {
     "name": "stdout",
     "output_type": "stream",
     "text": [
      "css:disc\n",
      "css:\n",
      "disc\n",
      "disc\n"
     ]
    }
   ],
   "source": [
    "listStyleType = \"css:disc\"\n",
    "print(listStyleType)\n",
    "print(listStyleType[0:4])\n",
    "print(listStyleType[4:])\n",
    "\n",
    "\n",
    "def resolveListStyle(listStyleType):\n",
    "    if listStyleType[0:4] == \"css:\":\n",
    "        listStyleType = listStyleType[4:]\n",
    "        return listStyleType\n",
    "    else:\n",
    "        return \"\\'\" + {listStyleType} + \"\\'\"\n",
    "\n",
    "print(resolveListStyle(listStyleType)) "
   ]
  }
 ],
 "metadata": {
  "kernelspec": {
   "display_name": "Python 3",
   "language": "python",
   "name": "python3"
  },
  "language_info": {
   "codemirror_mode": {
    "name": "ipython",
    "version": 3
   },
   "file_extension": ".py",
   "mimetype": "text/x-python",
   "name": "python",
   "nbconvert_exporter": "python",
   "pygments_lexer": "ipython3",
   "version": "3.12.0"
  }
 },
 "nbformat": 4,
 "nbformat_minor": 2
}
